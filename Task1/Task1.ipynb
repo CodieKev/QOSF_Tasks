{
 "cells": [
  {
   "cell_type": "markdown",
   "metadata": {},
   "source": [
    "# TASK1"
   ]
  },
  {
   "cell_type": "code",
   "execution_count": 165,
   "metadata": {},
   "outputs": [],
   "source": [
    "from qiskit.providers.aer.noise import NoiseModel\n",
    "from qiskit import QuantumRegister, ClassicalRegister\n",
    "from qiskit import QuantumCircuit, execute, Aer,IBMQ\n",
    "import numpy as np\n",
    "import random\n",
    "import math"
   ]
  },
  {
   "cell_type": "markdown",
   "metadata": {},
   "source": [
    "# Ansatz"
   ]
  },
  {
   "cell_type": "code",
   "execution_count": 133,
   "metadata": {},
   "outputs": [],
   "source": [
    "def ansatz(params):\n",
    "    depth = int(len(params)/8)\n",
    "    qc = QuantumCircuit(4)\n",
    "    for i in range (depth):\n",
    "        qc.rz(params[0+8*i],0)\n",
    "        qc.rz(params[1+8*i],1)\n",
    "        qc.rz(params[2+8*i],2)\n",
    "        qc.rz(params[3+8*i],3)\n",
    "        for j in range(4):\n",
    "            for k in range(j):\n",
    "                qc.cz(j,k)\n",
    "        qc.rx(params[4+8*i],0)\n",
    "        qc.rx(params[5+8*i],1)\n",
    "        qc.rx(params[6+8*i],2)\n",
    "        qc.rx(params[7+8*i],3)\n",
    "    return qc\n",
    "    \n",
    "    "
   ]
  },
  {
   "cell_type": "code",
   "execution_count": 135,
   "metadata": {},
   "outputs": [
    {
     "data": {
      "text/html": [
       "<pre style=\"word-wrap: normal;white-space: pre;background: #fff0;line-height: 1.1;font-family: &quot;Courier New&quot;,Courier,monospace\">     ┌───────┐            ┌───────┐┌───────┐                             »\n",
       "q_0: ┤ RZ(1) ├─■──■─────■─┤ RX(5) ├┤ RZ(9) ├──────────────■──────■─────■─»\n",
       "     ├───────┤ │  │     │ └───────┘├───────┤┌────────┐    │      │     │ »\n",
       "q_1: ┤ RZ(2) ├─■──┼──■──┼─────■────┤ RX(6) ├┤ RZ(10) ├────■──────┼──■──┼─»\n",
       "     ├───────┤    │  │  │     │    └───────┘├───────┬┘┌────────┐ │  │  │ »\n",
       "q_2: ┤ RZ(3) ├────■──■──┼─────┼────────■────┤ RX(7) ├─┤ RZ(11) ├─■──■──┼─»\n",
       "     ├───────┤          │     │        │    ├───────┤ ├────────┤       │ »\n",
       "q_3: ┤ RZ(4) ├──────────■─────■────────■────┤ RX(8) ├─┤ RZ(12) ├───────■─»\n",
       "     └───────┘                              └───────┘ └────────┘         »\n",
       "«     ┌────────┐                    \n",
       "«q_0: ┤ RX(13) ├────────────────────\n",
       "«     └────────┘┌────────┐          \n",
       "«q_1: ────■─────┤ RX(14) ├──────────\n",
       "«         │     └────────┘┌────────┐\n",
       "«q_2: ────┼─────────■─────┤ RX(15) ├\n",
       "«         │         │     ├────────┤\n",
       "«q_3: ────■─────────■─────┤ RX(16) ├\n",
       "«                         └────────┘</pre>"
      ],
      "text/plain": [
       "     ┌───────┐            ┌───────┐┌───────┐                             »\n",
       "q_0: ┤ RZ(1) ├─■──■─────■─┤ RX(5) ├┤ RZ(9) ├──────────────■──────■─────■─»\n",
       "     ├───────┤ │  │     │ └───────┘├───────┤┌────────┐    │      │     │ »\n",
       "q_1: ┤ RZ(2) ├─■──┼──■──┼─────■────┤ RX(6) ├┤ RZ(10) ├────■──────┼──■──┼─»\n",
       "     ├───────┤    │  │  │     │    └───────┘├───────┬┘┌────────┐ │  │  │ »\n",
       "q_2: ┤ RZ(3) ├────■──■──┼─────┼────────■────┤ RX(7) ├─┤ RZ(11) ├─■──■──┼─»\n",
       "     ├───────┤          │     │        │    ├───────┤ ├────────┤       │ »\n",
       "q_3: ┤ RZ(4) ├──────────■─────■────────■────┤ RX(8) ├─┤ RZ(12) ├───────■─»\n",
       "     └───────┘                              └───────┘ └────────┘         »\n",
       "«     ┌────────┐                    \n",
       "«q_0: ┤ RX(13) ├────────────────────\n",
       "«     └────────┘┌────────┐          \n",
       "«q_1: ────■─────┤ RX(14) ├──────────\n",
       "«         │     └────────┘┌────────┐\n",
       "«q_2: ────┼─────────■─────┤ RX(15) ├\n",
       "«         │         │     ├────────┤\n",
       "«q_3: ────■─────────■─────┤ RX(16) ├\n",
       "«                         └────────┘"
      ]
     },
     "execution_count": 135,
     "metadata": {},
     "output_type": "execute_result"
    }
   ],
   "source": [
    "circuit = ansatz([1,2,3,4,5,6,7,8,9,10,11,12,13,14,15,16])\n",
    "circuit.draw()"
   ]
  },
  {
   "cell_type": "markdown",
   "metadata": {},
   "source": [
    "# Random State"
   ]
  },
  {
   "cell_type": "code",
   "execution_count": 136,
   "metadata": {},
   "outputs": [],
   "source": [
    "random_state = [-0.03682408+0.00000000j,\n",
    "                -0.12550469+0.00000000j,\n",
    "                0.16895027+0.00000000j,\n",
    "                -0.57582028+0.00000000j,\n",
    "                0.04244547+0.00000000j,\n",
    "                -0.14466364+0.00000000j,\n",
    "                0.19474141+0.00000000j,\n",
    "                0.66372224+0.00000000j,\n",
    "                0.01370093+0.00000000j,\n",
    "                0.04669583+0.00000000j,\n",
    "                -0.06286038+0.00000000j,\n",
    "                0.21424221+0.00000000j,\n",
    "                0.01579245+0.00000000j,\n",
    "                -0.05382419+0.00000000j,\n",
    "                0.07245634+0.00000000j,\n",
    "                0.24694740+0.00000000j]"
   ]
  },
  {
   "cell_type": "markdown",
   "metadata": {},
   "source": [
    "# Cost/Error Function "
   ]
  },
  {
   "cell_type": "code",
   "execution_count": 139,
   "metadata": {},
   "outputs": [],
   "source": [
    "def cost_function(params):\n",
    "    qc = ansatz(params)\n",
    "    backend = Aer.get_backend('statevector_simulator')\n",
    "    job = execute(qc, backend)\n",
    "    result = job.result()\n",
    "    outputstate = result.get_statevector(qc, decimals=3)\n",
    "    error_vec = outputstate - random_state\n",
    "    error = 0\n",
    "    for i in range (len(error_vec)):\n",
    "        error+=np.absolute(error_vec[i])\n",
    "    return error"
   ]
  },
  {
   "cell_type": "markdown",
   "metadata": {},
   "source": [
    "# Optemizing "
   ]
  },
  {
   "cell_type": "code",
   "execution_count": 170,
   "metadata": {},
   "outputs": [],
   "source": [
    "from qiskit.aqua.components.optimizers import COBYLA,SLSQP,SPSA\n",
    "\n",
    "optimizer = COBYLA(1000,0.001)"
   ]
  },
  {
   "cell_type": "code",
   "execution_count": 179,
   "metadata": {
    "collapsed": true
   },
   "outputs": [
    {
     "name": "stdout",
     "output_type": "stream",
     "text": [
      "0\n",
      "8\n",
      "16\n",
      "24\n",
      "32\n",
      "40\n",
      "48\n",
      "56\n",
      "64\n",
      "72\n"
     ]
    }
   ],
   "source": [
    "layers = []\n",
    "error = []\n",
    "for i in range(10):\n",
    "    params = []\n",
    "    for j in range(8*i):\n",
    "        params.append(math.floor(random.uniform(0, 1)+0.5))\n",
    "    print(len(params))\n",
    "    ret_loop = optimizer.optimize(num_vars=8*i, objective_function=cost_function, initial_point=params)\n",
    "    layers.append(i)\n",
    "    error.append(cost_function(ret_loop[0]))"
   ]
  },
  {
   "cell_type": "markdown",
   "metadata": {},
   "source": [
    "# Result"
   ]
  },
  {
   "cell_type": "code",
   "execution_count": 180,
   "metadata": {},
   "outputs": [
    {
     "name": "stdout",
     "output_type": "stream",
     "text": [
      "[0, 1, 2, 3, 4, 5, 6, 7, 8, 9]\n",
      "[3.6791918100000003, 2.483579101963052, 0.9226283311203212, 0.9819267704629309, 1.341378416794932, 0.9957789887509821, 1.206561330288335, 0.8615276745092414, 1.0457421825299695, 0.8931078831945144]\n"
     ]
    }
   ],
   "source": [
    "print(layers)\n",
    "print(error)"
   ]
  },
  {
   "cell_type": "markdown",
   "metadata": {},
   "source": [
    "# PLOT"
   ]
  },
  {
   "cell_type": "code",
   "execution_count": 181,
   "metadata": {},
   "outputs": [],
   "source": [
    "import matplotlib\n",
    "import matplotlib.pyplot as plt"
   ]
  },
  {
   "cell_type": "code",
   "execution_count": 183,
   "metadata": {},
   "outputs": [
    {
     "data": {
      "image/png": "[encoded data removed]",
      "text/plain": [
       "<Figure size 432x288 with 1 Axes>"
      ]
     },
     "metadata": {
      "needs_background": "light"
     },
     "output_type": "display_data"
    }
   ],
   "source": [
    "fig, ax = plt.subplots()\n",
    "ax.plot(layers, error)\n",
    "ax.set(xlabel='Layers_of_Ansatz', ylabel='error(magnitude of difference vec)',\n",
    "       title='Error VS Layers')\n",
    "ax.grid()\n",
    "\n",
    "fig.savefig(\"Task1.png\")\n",
    "plt.show()"
   ]
  }
 ],
 "metadata": {
  "kernelspec": {
   "display_name": "Python 3",
   "language": "python",
   "name": "python3"
  },
  "language_info": {
   "codemirror_mode": {
    "name": "ipython",
    "version": 3
   },
   "file_extension": ".py",
   "mimetype": "text/x-python",
   "name": "python",
   "nbconvert_exporter": "python",
   "pygments_lexer": "ipython3",
   "version": "3.7.1"
  }
 },
 "nbformat": 4,
 "nbformat_minor": 4
}
