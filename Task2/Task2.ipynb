{
 "cells": [
  {
   "cell_type": "markdown",
   "metadata": {},
   "source": [
    "# Task 2"
   ]
  },
  {
   "cell_type": "code",
   "execution_count": 1,
   "metadata": {},
   "outputs": [],
   "source": [
    "from qiskit.providers.aer.noise import NoiseModel\n",
    "from qiskit import QuantumRegister, ClassicalRegister\n",
    "from qiskit import QuantumCircuit, execute, Aer,IBMQ\n",
    "from scipy.optimize import minimize\n",
    "import numpy as np"
   ]
  },
  {
   "cell_type": "markdown",
   "metadata": {},
   "source": [
    "# Noisy Model"
   ]
  },
  {
   "cell_type": "code",
   "execution_count": 2,
   "metadata": {},
   "outputs": [],
   "source": [
    "provider = IBMQ.load_account()\n",
    "backend = provider.get_backend('ibmq_essex')\n",
    "noise_model = NoiseModel.from_backend(backend)\n",
    "coupling_map = backend.configuration().coupling_map\n",
    "basis_gates = noise_model.basis_gates"
   ]
  },
  {
   "cell_type": "markdown",
   "metadata": {},
   "source": [
    "# Defining Ansatz and Cost Functions"
   ]
  },
  {
   "cell_type": "markdown",
   "metadata": {},
   "source": [
    "# 1. Ansatz"
   ]
  },
  {
   "cell_type": "code",
   "execution_count": 7,
   "metadata": {},
   "outputs": [],
   "source": [
    "shots= 1024\n",
    "def ansatz_counts(params):\n",
    "    qc = QuantumCircuit(2,2)\n",
    "\n",
    "    #q = QuantumRegister(2, 'q')\n",
    "\n",
    "    #qc.add_register(q)\n",
    "    #qc.h(0)\n",
    "    #qc.h(1)\n",
    "    qc.rx(params[4],0)\n",
    "    qc.rx(params[5],1)\n",
    "    qc.ry(params[0], 0)\n",
    "    qc.ry(params[1], 1)\n",
    "    qc.cx(0, 1)\n",
    "    qc.ry(params[2], 0)\n",
    "    qc.ry(params[3], 1)\n",
    "    \n",
    "    qc.measure(range(2), range(2))\n",
    "    #shots = 1000\n",
    "    \n",
    "    backend = Aer.get_backend('qasm_simulator')\n",
    "    job = execute(qc, backend=backend,\n",
    "                 coupling_map=coupling_map,\n",
    "                 basis_gates=basis_gates,\n",
    "                 noise_model=noise_model, shots= shots)\n",
    "    job_result = job.result()\n",
    "    counts = job_result.get_counts(qc)\n",
    "    return counts"
   ]
  },
  {
   "cell_type": "markdown",
   "metadata": {},
   "source": [
    "# 2. Cost_Function"
   ]
  },
  {
   "cell_type": "code",
   "execution_count": 8,
   "metadata": {},
   "outputs": [],
   "source": [
    "def cost_function(params):\n",
    "    counts = ansatz_counts(params)\n",
    "    # CALCULATE COST HERE\n",
    "    cost = 0\n",
    "    cost += np.abs((counts[\"01\"] if \"01\" in counts else 0) / shots - 0.5)\n",
    "    #print(cost)\n",
    "    cost += np.abs((counts[\"10\"] if \"10\" in counts else 0) / shots - 0.5)\n",
    "    #print(cost)\n",
    "    cost += np.abs((counts[\"11\"] if \"11\" in counts else 0) / shots )\n",
    "    #print(cost)\n",
    "    cost += np.abs((counts[\"00\"] if \"00\" in counts else 0) / shots )\n",
    "    #print(cost)\n",
    "\n",
    "\n",
    "    return cost#,counts"
   ]
  },
  {
   "cell_type": "code",
   "execution_count": 9,
   "metadata": {},
   "outputs": [],
   "source": [
    "params = np.array([0,0,0,0,0,0]) # Initial_Params"
   ]
  },
  {
   "cell_type": "code",
   "execution_count": 10,
   "metadata": {},
   "outputs": [
    {
     "name": "stdout",
     "output_type": "stream",
     "text": [
      "1.896484375\n"
     ]
    }
   ],
   "source": [
    "print(cost_function(params))     # Try_Run"
   ]
  },
  {
   "cell_type": "markdown",
   "metadata": {},
   "source": [
    "# Optimization for 1024 Counts per iteration"
   ]
  },
  {
   "cell_type": "code",
   "execution_count": 11,
   "metadata": {},
   "outputs": [],
   "source": [
    "from qiskit.aqua.components.optimizers import COBYLA,SLSQP,SPSA\n",
    "\n",
    "optimizer = COBYLA(100,0.001)"
   ]
  },
  {
   "cell_type": "code",
   "execution_count": 12,
   "metadata": {},
   "outputs": [],
   "source": [
    "ret = optimizer.optimize(num_vars=6, objective_function=cost_function, initial_point=params)"
   ]
  },
  {
   "cell_type": "code",
   "execution_count": 14,
   "metadata": {},
   "outputs": [
    {
     "name": "stdout",
     "output_type": "stream",
     "text": [
      "{'11': 25, '00': 49, '10': 459, '01': 491}\n",
      "0.197265625\n"
     ]
    }
   ],
   "source": [
    "print(ansatz_counts(ret[0]))\n",
    "print(cost_function(ret[0]))"
   ]
  },
  {
   "cell_type": "markdown",
   "metadata": {},
   "source": [
    "# Sampling For Counts = [1,10,100,1000]"
   ]
  },
  {
   "cell_type": "code",
   "execution_count": 15,
   "metadata": {},
   "outputs": [],
   "source": [
    "shots_array = [1,10,100,1000]\n"
   ]
  },
  {
   "cell_type": "code",
   "execution_count": 16,
   "metadata": {},
   "outputs": [],
   "source": [
    "result = []\n",
    "cost = []\n",
    "counts= []\n",
    "#optimizer = SPSA(500)\n",
    "for i in range (len(shots_array)):\n",
    "    shots = shots_array[i]\n",
    "    ret_loop= optimizer.optimize(num_vars=6, objective_function=cost_function, initial_point=params)\n",
    "    result.append([shots,cost_function(ret_loop[0]),ansatz_counts(ret_loop[0])])\n",
    "    cost.append(cost_function(ret_loop[0]))\n",
    "    counts.append(ansatz_counts(ret_loop[0]))\n",
    "    \n",
    "    "
   ]
  },
  {
   "cell_type": "code",
   "execution_count": 17,
   "metadata": {},
   "outputs": [
    {
     "name": "stdout",
     "output_type": "stream",
     "text": [
      "[[1, 2.0, {'00': 1}], [10, 0.6000000000000001, {'11': 2, '00': 1, '10': 6, '01': 1}], [100, 0.22000000000000003, {'11': 2, '00': 14, '10': 34, '01': 50}], [1000, 0.276, {'11': 34, '00': 86, '10': 405, '01': 475}]]\n"
     ]
    }
   ],
   "source": [
    "print(result)"
   ]
  },
  {
   "cell_type": "code",
   "execution_count": 18,
   "metadata": {},
   "outputs": [
    {
     "name": "stdout",
     "output_type": "stream",
     "text": [
      "[2.0, 0.19999999999999998, 0.14, 0.19599999999999998]\n"
     ]
    }
   ],
   "source": [
    "print(cost)"
   ]
  },
  {
   "cell_type": "code",
   "execution_count": 19,
   "metadata": {
    "scrolled": true
   },
   "outputs": [
    {
     "name": "stdout",
     "output_type": "stream",
     "text": [
      "[{'00': 1}, {'11': 2, '00': 1, '10': 4, '01': 3}, {'11': 4, '00': 10, '10': 38, '01': 48}, {'11': 44, '00': 73, '10': 382, '01': 501}]\n"
     ]
    }
   ],
   "source": [
    "print(counts)"
   ]
  },
  {
   "cell_type": "markdown",
   "metadata": {},
   "source": [
    "# Result"
   ]
  },
  {
   "cell_type": "markdown",
   "metadata": {},
   "source": [
    "We can see as the cost suggest that we can't get to a result with a single measurment of our circuit. And to get the best we need at least 100 measurment per iteration."
   ]
  },
  {
   "cell_type": "code",
   "execution_count": null,
   "metadata": {},
   "outputs": [],
   "source": []
  }
 ],
 "metadata": {
  "kernelspec": {
   "display_name": "Python 3",
   "language": "python",
   "name": "python3"
  },
  "language_info": {
   "codemirror_mode": {
    "name": "ipython",
    "version": 3
   },
   "file_extension": ".py",
   "mimetype": "text/x-python",
   "name": "python",
   "nbconvert_exporter": "python",
   "pygments_lexer": "ipython3",
   "version": "3.7.1"
  }
 },
 "nbformat": 4,
 "nbformat_minor": 1
}
