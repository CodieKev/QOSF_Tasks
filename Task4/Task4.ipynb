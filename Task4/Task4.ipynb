{
 "cells": [
  {
   "cell_type": "markdown",
   "metadata": {},
   "source": [
    "# Task4"
   ]
  },
  {
   "cell_type": "code",
   "execution_count": 37,
   "metadata": {},
   "outputs": [],
   "source": [
    "from qiskit import QuantumRegister, ClassicalRegister\n",
    "from qiskit import QuantumCircuit, execute, Aer\n",
    "import pennylane as qml\n",
    "import numpy as np\n",
    "from numpy import pi\n",
    "simulator = Aer.get_backend('qasm_simulator')\n",
    "\n"
   ]
  },
  {
   "cell_type": "markdown",
   "metadata": {},
   "source": [
    "# Matrix and Decomposition"
   ]
  },
  {
   "cell_type": "code",
   "execution_count": 104,
   "metadata": {},
   "outputs": [],
   "source": [
    "M= np.matrix('1 0 0 0 ;0 0 -1 0;0 -1 0 0;0 0 0 1')"
   ]
  },
  {
   "cell_type": "code",
   "execution_count": 105,
   "metadata": {},
   "outputs": [],
   "source": [
    "coeffs, obs_list = qml.utils.decompose_hamiltonian(M)\n",
    "H = qml.Hamiltonian(coeffs, obs_list)"
   ]
  },
  {
   "cell_type": "code",
   "execution_count": 106,
   "metadata": {
    "scrolled": false
   },
   "outputs": [
    {
     "name": "stdout",
     "output_type": "stream",
     "text": [
      "(0.5) [I0 I1]\n",
      "+ (-0.5) [X0 X1]\n",
      "+ (-0.5) [Y0 Y1]\n",
      "+ (0.5) [Z0 Z1]\n"
     ]
    }
   ],
   "source": [
    "print(H)"
   ]
  },
  {
   "cell_type": "markdown",
   "metadata": {},
   "source": [
    "# Ansatz"
   ]
  },
  {
   "cell_type": "code",
   "execution_count": 97,
   "metadata": {},
   "outputs": [],
   "source": [
    "def Operational_circuit(params):\n",
    "    qc = QuantumCircuit(2)\n",
    "    \n",
    "    #qc.h(range(2))\n",
    "    qc.rx(params[0],0)\n",
    "    qc.rx(params[1],1)\n",
    "    qc.ry(params[2],0)\n",
    "    qc.ry(params[3],1)\n",
    "    qc.cx(0,1)\n",
    "    qc.ry(params[4],0)\n",
    "    qc.ry(params[5],1)\n",
    "    \n",
    "    return qc\n",
    "    "
   ]
  },
  {
   "cell_type": "code",
   "execution_count": 98,
   "metadata": {},
   "outputs": [],
   "source": [
    "Operational_circuit_try = Operational_circuit([1,2,3,4,5,6])"
   ]
  },
  {
   "cell_type": "code",
   "execution_count": 103,
   "metadata": {},
   "outputs": [
    {
     "data": {
      "text/html": [
       "<pre style=\"word-wrap: normal;white-space: pre;background: #fff0;line-height: 1.1;font-family: &quot;Courier New&quot;,Courier,monospace\">     ┌───────┐┌───────┐     ┌───────┐\n",
       "q_0: ┤ RX(1) ├┤ RY(3) ├──■──┤ RY(5) ├\n",
       "     ├───────┤├───────┤┌─┴─┐├───────┤\n",
       "q_1: ┤ RX(2) ├┤ RY(4) ├┤ X ├┤ RY(6) ├\n",
       "     └───────┘└───────┘└───┘└───────┘</pre>"
      ],
      "text/plain": [
       "     ┌───────┐┌───────┐     ┌───────┐\n",
       "q_0: ┤ RX(1) ├┤ RY(3) ├──■──┤ RY(5) ├\n",
       "     ├───────┤├───────┤┌─┴─┐├───────┤\n",
       "q_1: ┤ RX(2) ├┤ RY(4) ├┤ X ├┤ RY(6) ├\n",
       "     └───────┘└───────┘└───┘└───────┘"
      ]
     },
     "execution_count": 103,
     "metadata": {},
     "output_type": "execute_result"
    }
   ],
   "source": [
    "Operational_circuit_try.draw()"
   ]
  },
  {
   "cell_type": "markdown",
   "metadata": {},
   "source": [
    "# Measurments for different components of H"
   ]
  },
  {
   "cell_type": "markdown",
   "metadata": {},
   "source": [
    "# 1. ZZ"
   ]
  },
  {
   "cell_type": "code",
   "execution_count": 68,
   "metadata": {},
   "outputs": [
    {
     "data": {
      "text/html": [
       "<pre style=\"word-wrap: normal;white-space: pre;background: #fff0;line-height: 1.1;font-family: &quot;Courier New&quot;,Courier,monospace\">        ┌───────┐┌───────┐     ┌───────┐ ░ ┌─┐   \n",
       "   q_0: ┤ RX(1) ├┤ RY(3) ├──■──┤ RY(4) ├─░─┤M├───\n",
       "        ├───────┤├───────┤┌─┴─┐├───────┤ ░ └╥┘┌─┐\n",
       "   q_1: ┤ RX(2) ├┤ RY(3) ├┤ X ├┤ RY(4) ├─░──╫─┤M├\n",
       "        └───────┘└───────┘└───┘└───────┘ ░  ║ └╥┘\n",
       "meas_0: ════════════════════════════════════╩══╬═\n",
       "                                               ║ \n",
       "meas_1: ═══════════════════════════════════════╩═\n",
       "                                                 </pre>"
      ],
      "text/plain": [
       "        ┌───────┐┌───────┐     ┌───────┐ ░ ┌─┐   \n",
       "   q_0: ┤ RX(1) ├┤ RY(3) ├──■──┤ RY(4) ├─░─┤M├───\n",
       "        ├───────┤├───────┤┌─┴─┐├───────┤ ░ └╥┘┌─┐\n",
       "   q_1: ┤ RX(2) ├┤ RY(3) ├┤ X ├┤ RY(4) ├─░──╫─┤M├\n",
       "        └───────┘└───────┘└───┘└───────┘ ░  ║ └╥┘\n",
       "meas_0: ════════════════════════════════════╩══╬═\n",
       "                                               ║ \n",
       "meas_1: ═══════════════════════════════════════╩═\n",
       "                                                 "
      ]
     },
     "execution_count": 68,
     "metadata": {},
     "output_type": "execute_result"
    }
   ],
   "source": [
    "def measure_zz_circuit(given_circuit):\n",
    "    zz_meas = given_circuit.copy()\n",
    "    zz_meas.measure_all()\n",
    "    return zz_meas\n",
    "\n",
    "zz_meas = measure_zz_circuit(Operational_circuit_try)\n",
    "zz_meas.draw()"
   ]
  },
  {
   "cell_type": "code",
   "execution_count": 34,
   "metadata": {},
   "outputs": [],
   "source": [
    "def measure_zz(given_circuit, num_shots = 10000):\n",
    "\n",
    "    zz_meas = measure_zz_circuit(given_circuit)\n",
    "    \n",
    "    result = execute(zz_meas, backend = simulator, shots = num_shots).result()\n",
    "    counts = result.get_counts(zz_meas)\n",
    "\n",
    "    if '00' not in counts:\n",
    "        counts['00'] = 0\n",
    "    if '01' not in counts:\n",
    "        counts['01'] = 0\n",
    "    if '10' not in counts:\n",
    "        counts['10'] = 0\n",
    "    if '11' not in counts:\n",
    "        counts['11'] = 0 \n",
    "\n",
    "    total_counts = counts['00'] + counts['11'] + counts['01'] + counts['10']\n",
    "    zz = counts['00'] + counts['11'] - counts['01'] - counts['10']\n",
    "    zz = zz / total_counts\n",
    "    \n",
    "    return zz"
   ]
  },
  {
   "cell_type": "code",
   "execution_count": 69,
   "metadata": {},
   "outputs": [
    {
     "name": "stdout",
     "output_type": "stream",
     "text": [
      "<ZZ> = 0.5868\n"
     ]
    }
   ],
   "source": [
    "zz = measure_zz(Operational_circuit_try)\n",
    "print(\"<ZZ> =\", str(zz))"
   ]
  },
  {
   "cell_type": "markdown",
   "metadata": {},
   "source": [
    "# 2. XX"
   ]
  },
  {
   "cell_type": "code",
   "execution_count": 39,
   "metadata": {},
   "outputs": [],
   "source": [
    "def measure_xx_circuit(given_circuit):\n",
    "    xx_meas = given_circuit.copy()\n",
    "    xx_meas.h(0)\n",
    "    xx_meas.h(1)\n",
    "    xx_meas.measure_all()\n",
    "\n",
    "    return xx_meas"
   ]
  },
  {
   "cell_type": "code",
   "execution_count": 70,
   "metadata": {},
   "outputs": [
    {
     "data": {
      "text/html": [
       "<pre style=\"word-wrap: normal;white-space: pre;background: #fff0;line-height: 1.1;font-family: &quot;Courier New&quot;,Courier,monospace\">        ┌───────┐┌───────┐     ┌───────┐┌───┐ ░ ┌─┐   \n",
       "   q_0: ┤ RX(1) ├┤ RY(3) ├──■──┤ RY(4) ├┤ H ├─░─┤M├───\n",
       "        ├───────┤├───────┤┌─┴─┐├───────┤├───┤ ░ └╥┘┌─┐\n",
       "   q_1: ┤ RX(2) ├┤ RY(3) ├┤ X ├┤ RY(4) ├┤ H ├─░──╫─┤M├\n",
       "        └───────┘└───────┘└───┘└───────┘└───┘ ░  ║ └╥┘\n",
       "meas_0: ═════════════════════════════════════════╩══╬═\n",
       "                                                    ║ \n",
       "meas_1: ════════════════════════════════════════════╩═\n",
       "                                                      </pre>"
      ],
      "text/plain": [
       "        ┌───────┐┌───────┐     ┌───────┐┌───┐ ░ ┌─┐   \n",
       "   q_0: ┤ RX(1) ├┤ RY(3) ├──■──┤ RY(4) ├┤ H ├─░─┤M├───\n",
       "        ├───────┤├───────┤┌─┴─┐├───────┤├───┤ ░ └╥┘┌─┐\n",
       "   q_1: ┤ RX(2) ├┤ RY(3) ├┤ X ├┤ RY(4) ├┤ H ├─░──╫─┤M├\n",
       "        └───────┘└───────┘└───┘└───────┘└───┘ ░  ║ └╥┘\n",
       "meas_0: ═════════════════════════════════════════╩══╬═\n",
       "                                                    ║ \n",
       "meas_1: ════════════════════════════════════════════╩═\n",
       "                                                      "
      ]
     },
     "execution_count": 70,
     "metadata": {},
     "output_type": "execute_result"
    }
   ],
   "source": [
    "xx_meas = measure_xx_circuit(Operational_circuit_try)\n",
    "xx_meas.draw()"
   ]
  },
  {
   "cell_type": "code",
   "execution_count": 41,
   "metadata": {},
   "outputs": [],
   "source": [
    "def measure_xx(given_circuit, num_shots = 10000):\n",
    "    \n",
    "    xx_meas = measure_xx_circuit(given_circuit)\n",
    "    \n",
    "    result = execute(xx_meas, backend = simulator, shots = num_shots).result()\n",
    "    counts = result.get_counts(xx_meas)\n",
    "\n",
    "    if '00' not in counts:\n",
    "        counts['00'] = 0\n",
    "    if '01' not in counts:\n",
    "        counts['01'] = 0\n",
    "    if '10' not in counts:\n",
    "        counts['10'] = 0\n",
    "    if '11' not in counts:\n",
    "        counts['11'] = 0\n",
    "\n",
    "    total_counts = counts['00'] + counts['11'] + counts['01'] + counts['10']\n",
    "    xx = counts['00'] + counts['11'] - counts['01'] - counts['10']\n",
    "    xx = xx / total_counts\n",
    "    \n",
    "    return xx"
   ]
  },
  {
   "cell_type": "code",
   "execution_count": 71,
   "metadata": {},
   "outputs": [
    {
     "name": "stdout",
     "output_type": "stream",
     "text": [
      "<XX> = -0.1034\n"
     ]
    }
   ],
   "source": [
    "xx = measure_xx(Operational_circuit_try)\n",
    "print(\"<XX> =\", str(xx))"
   ]
  },
  {
   "cell_type": "markdown",
   "metadata": {},
   "source": [
    "# 3. YY"
   ]
  },
  {
   "cell_type": "code",
   "execution_count": 108,
   "metadata": {},
   "outputs": [],
   "source": [
    "def measure_yy_circuit(given_circuit):\n",
    "    yy_meas = given_circuit.copy()\n",
    "    yy_meas.rz(-pi/2,0)\n",
    "    yy_meas.rz(-pi/2,1)\n",
    "\n",
    "    yy_meas.h(0)\n",
    "    yy_meas.h(1)\n",
    "    yy_meas.measure_all()\n",
    "\n",
    "    return yy_meas"
   ]
  },
  {
   "cell_type": "code",
   "execution_count": 109,
   "metadata": {},
   "outputs": [
    {
     "data": {
      "text/html": [
       "<pre style=\"word-wrap: normal;white-space: pre;background: #fff0;line-height: 1.1;font-family: &quot;Courier New&quot;,Courier,monospace\">        ┌───────┐┌───────┐     ┌───────┐┌───────────┐┌───┐ ░ ┌─┐   \n",
       "   q_0: ┤ RX(1) ├┤ RY(3) ├──■──┤ RY(5) ├┤ RZ(-pi/2) ├┤ H ├─░─┤M├───\n",
       "        ├───────┤├───────┤┌─┴─┐├───────┤├───────────┤├───┤ ░ └╥┘┌─┐\n",
       "   q_1: ┤ RX(2) ├┤ RY(4) ├┤ X ├┤ RY(6) ├┤ RZ(-pi/2) ├┤ H ├─░──╫─┤M├\n",
       "        └───────┘└───────┘└───┘└───────┘└───────────┘└───┘ ░  ║ └╥┘\n",
       "meas_0: ══════════════════════════════════════════════════════╩══╬═\n",
       "                                                                 ║ \n",
       "meas_1: ═════════════════════════════════════════════════════════╩═\n",
       "                                                                   </pre>"
      ],
      "text/plain": [
       "        ┌───────┐┌───────┐     ┌───────┐┌───────────┐┌───┐ ░ ┌─┐   \n",
       "   q_0: ┤ RX(1) ├┤ RY(3) ├──■──┤ RY(5) ├┤ RZ(-pi/2) ├┤ H ├─░─┤M├───\n",
       "        ├───────┤├───────┤┌─┴─┐├───────┤├───────────┤├───┤ ░ └╥┘┌─┐\n",
       "   q_1: ┤ RX(2) ├┤ RY(4) ├┤ X ├┤ RY(6) ├┤ RZ(-pi/2) ├┤ H ├─░──╫─┤M├\n",
       "        └───────┘└───────┘└───┘└───────┘└───────────┘└───┘ ░  ║ └╥┘\n",
       "meas_0: ══════════════════════════════════════════════════════╩══╬═\n",
       "                                                                 ║ \n",
       "meas_1: ═════════════════════════════════════════════════════════╩═\n",
       "                                                                   "
      ]
     },
     "execution_count": 109,
     "metadata": {},
     "output_type": "execute_result"
    }
   ],
   "source": [
    "yy_meas = measure_yy_circuit(Operational_circuit_try)\n",
    "yy_meas.draw()"
   ]
  },
  {
   "cell_type": "code",
   "execution_count": 110,
   "metadata": {},
   "outputs": [],
   "source": [
    "def measure_yy(given_circuit, num_shots = 10000):\n",
    "    \n",
    "    yy_meas = measure_yy_circuit(given_circuit)\n",
    "    \n",
    "    result = execute(yy_meas, backend = simulator, shots = num_shots).result()\n",
    "    counts = result.get_counts(yy_meas)\n",
    "\n",
    "    if '00' not in counts:\n",
    "        counts['00'] = 0\n",
    "    if '01' not in counts:\n",
    "        counts['01'] = 0\n",
    "    if '10' not in counts:\n",
    "        counts['10'] = 0\n",
    "    if '11' not in counts:\n",
    "        counts['11'] = 0\n",
    "\n",
    "    total_counts = counts['00'] + counts['11'] + counts['01'] + counts['10']\n",
    "    yy = counts['00'] + counts['11'] - counts['01'] - counts['10']\n",
    "    yy = yy / total_counts\n",
    "    \n",
    "    return yy"
   ]
  },
  {
   "cell_type": "code",
   "execution_count": 111,
   "metadata": {},
   "outputs": [
    {
     "name": "stdout",
     "output_type": "stream",
     "text": [
      "<yy> = -0.0234\n"
     ]
    }
   ],
   "source": [
    "yy = measure_yy(Operational_circuit_try)\n",
    "print(\"<yy> =\", str(yy))"
   ]
  },
  {
   "cell_type": "markdown",
   "metadata": {},
   "source": [
    "# Cost_Function"
   ]
  },
  {
   "cell_type": "code",
   "execution_count": 154,
   "metadata": {},
   "outputs": [],
   "source": [
    "def eigen_value(params):\n",
    "    num_shots = 10000\n",
    "    zz = measure_zz(Operational_circuit(params), num_shots = num_shots)\n",
    "    xx = measure_xx(Operational_circuit(params), num_shots = num_shots)\n",
    "    yy = measure_yy(Operational_circuit(params), num_shots = num_shots)\n",
    "    \n",
    "    ev = (0.5)*1 + (0.5)*zz + (-0.5)*xx+(-0.5)*yy\n",
    "    \n",
    "    return ev"
   ]
  },
  {
   "cell_type": "code",
   "execution_count": 155,
   "metadata": {},
   "outputs": [],
   "source": [
    "params = [0,0,0,0,0,0]"
   ]
  },
  {
   "cell_type": "code",
   "execution_count": 156,
   "metadata": {
    "scrolled": true
   },
   "outputs": [
    {
     "name": "stdout",
     "output_type": "stream",
     "text": [
      "The Eigen_Value of the trial state is 1.0070999999999999\n"
     ]
    }
   ],
   "source": [
    "ev = eigen_value(params)     #Try energy with params = [0,0,0,0,0,0]\n",
    "print(\"The Eigen_Value of the trial state is\", str(ev))"
   ]
  },
  {
   "cell_type": "markdown",
   "metadata": {},
   "source": [
    "# Finding Lowest Eignevalue"
   ]
  },
  {
   "cell_type": "code",
   "execution_count": 157,
   "metadata": {},
   "outputs": [],
   "source": [
    "from qiskit.aqua.components.optimizers import COBYLA,SLSQP,SPSA\n",
    "\n",
    "optimizer = COBYLA(50,0.001)"
   ]
  },
  {
   "cell_type": "code",
   "execution_count": 158,
   "metadata": {},
   "outputs": [],
   "source": [
    "ret = optimizer.optimize(num_vars=6, objective_function=eigen_value, initial_point=params)"
   ]
  },
  {
   "cell_type": "code",
   "execution_count": 159,
   "metadata": {},
   "outputs": [
    {
     "data": {
      "text/plain": [
       "-0.9931"
      ]
     },
     "execution_count": 159,
     "metadata": {},
     "output_type": "execute_result"
    }
   ],
   "source": [
    "eigen_value(ret[0])"
   ]
  },
  {
   "cell_type": "code",
   "execution_count": null,
   "metadata": {},
   "outputs": [],
   "source": []
  },
  {
   "cell_type": "code",
   "execution_count": null,
   "metadata": {},
   "outputs": [],
   "source": []
  }
 ],
 "metadata": {
  "kernelspec": {
   "display_name": "Python 3",
   "language": "python",
   "name": "python3"
  },
  "language_info": {
   "codemirror_mode": {
    "name": "ipython",
    "version": 3
   },
   "file_extension": ".py",
   "mimetype": "text/x-python",
   "name": "python",
   "nbconvert_exporter": "python",
   "pygments_lexer": "ipython3",
   "version": "3.7.1"
  }
 },
 "nbformat": 4,
 "nbformat_minor": 4
}
